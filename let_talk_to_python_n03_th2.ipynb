{
 "cells": [
  {
   "cell_type": "markdown",
   "id": "7d1d71a1",
   "metadata": {},
   "source": [
    " # This is header 1\n",
    " - Item 1\n",
    " - Item 2\n",
    " ## This is header 2\n",
    " ### This is header 3\n",
    " \n",
    " \n",
    " *This is hello world program in Python*"
   ]
  },
  {
   "cell_type": "code",
   "execution_count": 1,
   "id": "888f2b42",
   "metadata": {
    "scrolled": false
   },
   "outputs": [
    {
     "name": "stdout",
     "output_type": "stream",
     "text": [
      "Hello World!\n"
     ]
    }
   ],
   "source": [
    "print(\"Hello World!\")"
   ]
  },
  {
   "cell_type": "markdown",
   "id": "a1425e0f",
   "metadata": {},
   "source": [
    "# Math"
   ]
  },
  {
   "cell_type": "code",
   "execution_count": 2,
   "id": "380396fa",
   "metadata": {},
   "outputs": [
    {
     "data": {
      "text/plain": [
       "15"
      ]
     },
     "execution_count": 2,
     "metadata": {},
     "output_type": "execute_result"
    }
   ],
   "source": [
    "1 + 9 + 5"
   ]
  },
  {
   "cell_type": "code",
   "execution_count": 3,
   "id": "563d79fe",
   "metadata": {},
   "outputs": [
    {
     "data": {
      "text/plain": [
       "-6"
      ]
     },
     "execution_count": 3,
     "metadata": {},
     "output_type": "execute_result"
    }
   ],
   "source": [
    "1 - 2 -5"
   ]
  },
  {
   "cell_type": "code",
   "execution_count": 4,
   "id": "5a3e9357",
   "metadata": {},
   "outputs": [
    {
     "data": {
      "text/plain": [
       "20"
      ]
     },
     "execution_count": 4,
     "metadata": {},
     "output_type": "execute_result"
    }
   ],
   "source": [
    "10 * 2"
   ]
  },
  {
   "cell_type": "code",
   "execution_count": 5,
   "id": "fb87fe36",
   "metadata": {},
   "outputs": [
    {
     "data": {
      "text/plain": [
       "5.0"
      ]
     },
     "execution_count": 5,
     "metadata": {},
     "output_type": "execute_result"
    }
   ],
   "source": [
    "10 / 2"
   ]
  },
  {
   "cell_type": "code",
   "execution_count": 6,
   "id": "24407088",
   "metadata": {},
   "outputs": [
    {
     "data": {
      "text/plain": [
       "0.3333333333333333"
      ]
     },
     "execution_count": 6,
     "metadata": {},
     "output_type": "execute_result"
    }
   ],
   "source": [
    "1 / 3"
   ]
  },
  {
   "cell_type": "code",
   "execution_count": 9,
   "id": "2de2703c",
   "metadata": {},
   "outputs": [
    {
     "data": {
      "text/plain": [
       "2.25"
      ]
     },
     "execution_count": 9,
     "metadata": {},
     "output_type": "execute_result"
    }
   ],
   "source": [
    "(1 + 2) * (3 /4)"
   ]
  },
  {
   "cell_type": "code",
   "execution_count": 10,
   "id": "00b73682",
   "metadata": {},
   "outputs": [
    {
     "data": {
      "text/plain": [
       "2.857142857142857"
      ]
     },
     "execution_count": 10,
     "metadata": {},
     "output_type": "execute_result"
    }
   ],
   "source": [
    "20 / 7"
   ]
  },
  {
   "cell_type": "code",
   "execution_count": 11,
   "id": "488a02d5",
   "metadata": {},
   "outputs": [
    {
     "data": {
      "text/plain": [
       "3.3333333333333335"
      ]
     },
     "execution_count": 11,
     "metadata": {},
     "output_type": "execute_result"
    }
   ],
   "source": [
    "10 / 3"
   ]
  },
  {
   "cell_type": "code",
   "execution_count": 14,
   "id": "076f87c2",
   "metadata": {},
   "outputs": [
    {
     "data": {
      "text/plain": [
       "0.30000000000000004"
      ]
     },
     "execution_count": 14,
     "metadata": {},
     "output_type": "execute_result"
    }
   ],
   "source": [
    "0.1 + 0.1 + 0.1"
   ]
  },
  {
   "cell_type": "code",
   "execution_count": 15,
   "id": "5fc58d70",
   "metadata": {},
   "outputs": [
    {
     "data": {
      "text/plain": [
       "int"
      ]
     },
     "execution_count": 15,
     "metadata": {},
     "output_type": "execute_result"
    }
   ],
   "source": [
    "type(5)"
   ]
  },
  {
   "cell_type": "code",
   "execution_count": 16,
   "id": "0d893494",
   "metadata": {},
   "outputs": [
    {
     "data": {
      "text/plain": [
       "float"
      ]
     },
     "execution_count": 16,
     "metadata": {},
     "output_type": "execute_result"
    }
   ],
   "source": [
    "type(10.3)"
   ]
  },
  {
   "cell_type": "code",
   "execution_count": 17,
   "id": "af3ab0d2",
   "metadata": {},
   "outputs": [],
   "source": [
    "a = 5"
   ]
  },
  {
   "cell_type": "code",
   "execution_count": 18,
   "id": "a4c204d0",
   "metadata": {},
   "outputs": [
    {
     "data": {
      "text/plain": [
       "int"
      ]
     },
     "execution_count": 18,
     "metadata": {},
     "output_type": "execute_result"
    }
   ],
   "source": [
    "type(a)"
   ]
  },
  {
   "cell_type": "code",
   "execution_count": 19,
   "id": "446b495f",
   "metadata": {},
   "outputs": [],
   "source": [
    "a = 4.5"
   ]
  },
  {
   "cell_type": "code",
   "execution_count": 20,
   "id": "f52501e9",
   "metadata": {},
   "outputs": [
    {
     "data": {
      "text/plain": [
       "float"
      ]
     },
     "execution_count": 20,
     "metadata": {},
     "output_type": "execute_result"
    }
   ],
   "source": [
    "type(a)"
   ]
  },
  {
   "cell_type": "code",
   "execution_count": 23,
   "id": "6d3f5b56",
   "metadata": {},
   "outputs": [
    {
     "data": {
      "text/plain": [
       "5.0"
      ]
     },
     "execution_count": 23,
     "metadata": {},
     "output_type": "execute_result"
    }
   ],
   "source": [
    "10/2"
   ]
  },
  {
   "cell_type": "code",
   "execution_count": 30,
   "id": "7df1d4c8",
   "metadata": {},
   "outputs": [
    {
     "data": {
      "text/plain": [
       "3.33"
      ]
     },
     "execution_count": 30,
     "metadata": {},
     "output_type": "execute_result"
    }
   ],
   "source": [
    "round(10/3, 2)"
   ]
  },
  {
   "cell_type": "code",
   "execution_count": 27,
   "id": "bc002da3",
   "metadata": {},
   "outputs": [],
   "source": [
    "??round"
   ]
  },
  {
   "cell_type": "code",
   "execution_count": 31,
   "id": "88d43029",
   "metadata": {},
   "outputs": [
    {
     "data": {
      "text/plain": [
       "True"
      ]
     },
     "execution_count": 31,
     "metadata": {},
     "output_type": "execute_result"
    }
   ],
   "source": [
    "5 < 3 + 4"
   ]
  },
  {
   "cell_type": "code",
   "execution_count": 32,
   "id": "d7bec3dd",
   "metadata": {},
   "outputs": [
    {
     "data": {
      "text/plain": [
       "False"
      ]
     },
     "execution_count": 32,
     "metadata": {},
     "output_type": "execute_result"
    }
   ],
   "source": [
    "5 > 3 + 4"
   ]
  },
  {
   "cell_type": "markdown",
   "id": "8d39a1c6",
   "metadata": {},
   "source": [
    "# Strings"
   ]
  },
  {
   "cell_type": "code",
   "execution_count": 33,
   "id": "0124f0d1",
   "metadata": {},
   "outputs": [
    {
     "data": {
      "text/plain": [
       "'Hello World!'"
      ]
     },
     "execution_count": 33,
     "metadata": {},
     "output_type": "execute_result"
    }
   ],
   "source": [
    "\"Hello World!\""
   ]
  },
  {
   "cell_type": "code",
   "execution_count": 34,
   "id": "7304114a",
   "metadata": {},
   "outputs": [
    {
     "data": {
      "text/plain": [
       "'Hello World!'"
      ]
     },
     "execution_count": 34,
     "metadata": {},
     "output_type": "execute_result"
    }
   ],
   "source": [
    "'Hello World!'"
   ]
  },
  {
   "cell_type": "code",
   "execution_count": 35,
   "id": "7d0c4a30",
   "metadata": {},
   "outputs": [
    {
     "data": {
      "text/plain": [
       "'apple'"
      ]
     },
     "execution_count": 35,
     "metadata": {},
     "output_type": "execute_result"
    }
   ],
   "source": [
    "\"apple\""
   ]
  },
  {
   "cell_type": "code",
   "execution_count": 36,
   "id": "c1af75ac",
   "metadata": {},
   "outputs": [
    {
     "ename": "NameError",
     "evalue": "name 'apple' is not defined",
     "output_type": "error",
     "traceback": [
      "\u001b[0;31m---------------------------------------------------------------------------\u001b[0m",
      "\u001b[0;31mNameError\u001b[0m                                 Traceback (most recent call last)",
      "Cell \u001b[0;32mIn [36], line 1\u001b[0m\n\u001b[0;32m----> 1\u001b[0m \u001b[43mapple\u001b[49m\n",
      "\u001b[0;31mNameError\u001b[0m: name 'apple' is not defined"
     ]
    }
   ],
   "source": [
    "apple"
   ]
  },
  {
   "cell_type": "code",
   "execution_count": 37,
   "id": "4332bfa2",
   "metadata": {},
   "outputs": [
    {
     "data": {
      "text/plain": [
       "'apple'"
      ]
     },
     "execution_count": 37,
     "metadata": {},
     "output_type": "execute_result"
    }
   ],
   "source": [
    "\"apple\""
   ]
  },
  {
   "cell_type": "code",
   "execution_count": 38,
   "id": "2159e063",
   "metadata": {},
   "outputs": [
    {
     "data": {
      "text/plain": [
       "\"What's for lunch\""
      ]
     },
     "execution_count": 38,
     "metadata": {},
     "output_type": "execute_result"
    }
   ],
   "source": [
    "\"What's for lunch\""
   ]
  },
  {
   "cell_type": "markdown",
   "id": "a15ee8d9",
   "metadata": {},
   "source": [
    "## String operators"
   ]
  },
  {
   "cell_type": "code",
   "execution_count": 39,
   "id": "0fccd524",
   "metadata": {},
   "outputs": [
    {
     "data": {
      "text/plain": [
       "'HiThere!'"
      ]
     },
     "execution_count": 39,
     "metadata": {},
     "output_type": "execute_result"
    }
   ],
   "source": [
    "\"Hi\" + \"There!\""
   ]
  },
  {
   "cell_type": "code",
   "execution_count": 40,
   "id": "a556ae05",
   "metadata": {},
   "outputs": [
    {
     "data": {
      "text/plain": [
       "'HahaHahaHahaHahaHahaHahaHahaHahaHahaHaha'"
      ]
     },
     "execution_count": 40,
     "metadata": {},
     "output_type": "execute_result"
    }
   ],
   "source": [
    "\"Haha\" * 10"
   ]
  },
  {
   "cell_type": "markdown",
   "id": "55064259",
   "metadata": {},
   "source": [
    "## Indexes"
   ]
  },
  {
   "cell_type": "code",
   "execution_count": 42,
   "id": "998bdadb",
   "metadata": {},
   "outputs": [
    {
     "data": {
      "text/plain": [
       "'Hello'"
      ]
     },
     "execution_count": 42,
     "metadata": {},
     "output_type": "execute_result"
    }
   ],
   "source": [
    "\"H\" + \"e\" + \"l\" + \"l\" + \"o\""
   ]
  },
  {
   "cell_type": "code",
   "execution_count": 43,
   "id": "be9e8759",
   "metadata": {},
   "outputs": [
    {
     "data": {
      "text/plain": [
       "'H'"
      ]
     },
     "execution_count": 43,
     "metadata": {},
     "output_type": "execute_result"
    }
   ],
   "source": [
    "\"Hello\"[0]"
   ]
  },
  {
   "cell_type": "code",
   "execution_count": 44,
   "id": "5e43e3f3",
   "metadata": {},
   "outputs": [
    {
     "data": {
      "text/plain": [
       "'o'"
      ]
     },
     "execution_count": 44,
     "metadata": {},
     "output_type": "execute_result"
    }
   ],
   "source": [
    "\"Hello\"[4]"
   ]
  },
  {
   "cell_type": "code",
   "execution_count": 45,
   "id": "2cc86487",
   "metadata": {},
   "outputs": [
    {
     "ename": "IndexError",
     "evalue": "string index out of range",
     "output_type": "error",
     "traceback": [
      "\u001b[0;31m---------------------------------------------------------------------------\u001b[0m",
      "\u001b[0;31mIndexError\u001b[0m                                Traceback (most recent call last)",
      "Cell \u001b[0;32mIn [45], line 1\u001b[0m\n\u001b[0;32m----> 1\u001b[0m \u001b[38;5;124;43m\"\u001b[39;49m\u001b[38;5;124;43mHello\u001b[39;49m\u001b[38;5;124;43m\"\u001b[39;49m\u001b[43m[\u001b[49m\u001b[38;5;241;43m5\u001b[39;49m\u001b[43m]\u001b[49m\n",
      "\u001b[0;31mIndexError\u001b[0m: string index out of range"
     ]
    }
   ],
   "source": [
    "\"Hello\"[5]"
   ]
  },
  {
   "cell_type": "code",
   "execution_count": 46,
   "id": "fe552261",
   "metadata": {},
   "outputs": [
    {
     "data": {
      "text/plain": [
       "'o'"
      ]
     },
     "execution_count": 46,
     "metadata": {},
     "output_type": "execute_result"
    }
   ],
   "source": [
    "\"Hello\"[-1]"
   ]
  },
  {
   "cell_type": "code",
   "execution_count": 47,
   "id": "0328bbc9",
   "metadata": {},
   "outputs": [
    {
     "data": {
      "text/plain": [
       "' '"
      ]
     },
     "execution_count": 47,
     "metadata": {},
     "output_type": "execute_result"
    }
   ],
   "source": [
    "\"Hello K16 CNTT\"[5]"
   ]
  },
  {
   "cell_type": "code",
   "execution_count": 48,
   "id": "27fa0bcd",
   "metadata": {},
   "outputs": [
    {
     "data": {
      "text/plain": [
       "'llo'"
      ]
     },
     "execution_count": 48,
     "metadata": {},
     "output_type": "execute_result"
    }
   ],
   "source": [
    "\"Hello K16 CNTT\"[2:5]"
   ]
  },
  {
   "cell_type": "code",
   "execution_count": 49,
   "id": "7731cd73",
   "metadata": {},
   "outputs": [
    {
     "data": {
      "text/plain": [
       "'lo'"
      ]
     },
     "execution_count": 49,
     "metadata": {},
     "output_type": "execute_result"
    }
   ],
   "source": [
    "\"Hello K16 CNTT\"[2:5:2]"
   ]
  },
  {
   "cell_type": "code",
   "execution_count": 50,
   "id": "48a9c8dc",
   "metadata": {},
   "outputs": [
    {
     "data": {
      "text/plain": [
       "'HloK6CT'"
      ]
     },
     "execution_count": 50,
     "metadata": {},
     "output_type": "execute_result"
    }
   ],
   "source": [
    "\"Hello K16 CNTT\"[::2]"
   ]
  },
  {
   "cell_type": "code",
   "execution_count": 51,
   "id": "8634cdd9",
   "metadata": {},
   "outputs": [
    {
     "data": {
      "text/plain": [
       "'TTNC 61K olleH'"
      ]
     },
     "execution_count": 51,
     "metadata": {},
     "output_type": "execute_result"
    }
   ],
   "source": [
    "\"Hello K16 CNTT\"[::-1]"
   ]
  },
  {
   "cell_type": "markdown",
   "id": "c87ecdee",
   "metadata": {},
   "source": [
    "# Variables (Biến số)"
   ]
  },
  {
   "cell_type": "code",
   "execution_count": 1,
   "id": "c4190ecc",
   "metadata": {},
   "outputs": [
    {
     "data": {
      "text/plain": [
       "144"
      ]
     },
     "execution_count": 1,
     "metadata": {},
     "output_type": "execute_result"
    }
   ],
   "source": [
    "12 * 12"
   ]
  },
  {
   "cell_type": "code",
   "execution_count": 2,
   "id": "97c780d7",
   "metadata": {},
   "outputs": [],
   "source": [
    "a = 12 * 12"
   ]
  },
  {
   "cell_type": "code",
   "execution_count": 3,
   "id": "670bd3e8",
   "metadata": {},
   "outputs": [
    {
     "data": {
      "text/plain": [
       "144"
      ]
     },
     "execution_count": 3,
     "metadata": {},
     "output_type": "execute_result"
    }
   ],
   "source": [
    "a"
   ]
  },
  {
   "cell_type": "code",
   "execution_count": 4,
   "id": "fc41ac4c",
   "metadata": {},
   "outputs": [],
   "source": [
    "# Create a variable\n",
    "color = \"yellow\""
   ]
  },
  {
   "cell_type": "code",
   "execution_count": 5,
   "id": "44d4d7c9",
   "metadata": {},
   "outputs": [
    {
     "data": {
      "text/plain": [
       "'yellow'"
      ]
     },
     "execution_count": 5,
     "metadata": {},
     "output_type": "execute_result"
    }
   ],
   "source": [
    "color"
   ]
  },
  {
   "cell_type": "code",
   "execution_count": 6,
   "id": "3ec58926",
   "metadata": {},
   "outputs": [],
   "source": [
    "color = \"red\""
   ]
  },
  {
   "cell_type": "code",
   "execution_count": 7,
   "id": "22fd1495",
   "metadata": {},
   "outputs": [
    {
     "data": {
      "text/plain": [
       "'red'"
      ]
     },
     "execution_count": 7,
     "metadata": {},
     "output_type": "execute_result"
    }
   ],
   "source": [
    "color"
   ]
  },
  {
   "cell_type": "code",
   "execution_count": 8,
   "id": "c0d9eb22",
   "metadata": {},
   "outputs": [
    {
     "data": {
      "text/plain": [
       "str"
      ]
     },
     "execution_count": 8,
     "metadata": {},
     "output_type": "execute_result"
    }
   ],
   "source": [
    "type(color)"
   ]
  },
  {
   "cell_type": "code",
   "execution_count": 9,
   "id": "ab38c18b",
   "metadata": {},
   "outputs": [],
   "source": [
    "color = 12"
   ]
  },
  {
   "cell_type": "code",
   "execution_count": 10,
   "id": "cb7a9bfe",
   "metadata": {},
   "outputs": [
    {
     "data": {
      "text/plain": [
       "int"
      ]
     },
     "execution_count": 10,
     "metadata": {},
     "output_type": "execute_result"
    }
   ],
   "source": [
    "type(color)"
   ]
  },
  {
   "cell_type": "code",
   "execution_count": 11,
   "id": "c06885f8",
   "metadata": {},
   "outputs": [],
   "source": [
    "donuts = 12 * 12"
   ]
  },
  {
   "cell_type": "code",
   "execution_count": 12,
   "id": "362a75e5",
   "metadata": {},
   "outputs": [],
   "source": [
    "fishes = 3"
   ]
  },
  {
   "cell_type": "code",
   "execution_count": 13,
   "id": "39b3eb2e",
   "metadata": {},
   "outputs": [
    {
     "data": {
      "text/plain": [
       "147"
      ]
     },
     "execution_count": 13,
     "metadata": {},
     "output_type": "execute_result"
    }
   ],
   "source": [
    "donuts + fishes"
   ]
  },
  {
   "cell_type": "code",
   "execution_count": 14,
   "id": "f7c05b27",
   "metadata": {},
   "outputs": [
    {
     "data": {
      "text/plain": [
       "141"
      ]
     },
     "execution_count": 14,
     "metadata": {},
     "output_type": "execute_result"
    }
   ],
   "source": [
    "donuts - fishes"
   ]
  },
  {
   "cell_type": "code",
   "execution_count": 15,
   "id": "092f2580",
   "metadata": {},
   "outputs": [],
   "source": [
    "fruit = \"watermelon\""
   ]
  },
  {
   "cell_type": "code",
   "execution_count": 16,
   "id": "7b049ca7",
   "metadata": {},
   "outputs": [
    {
     "data": {
      "text/plain": [
       "'t'"
      ]
     },
     "execution_count": 16,
     "metadata": {},
     "output_type": "execute_result"
    }
   ],
   "source": [
    "fruit[2]"
   ]
  },
  {
   "cell_type": "markdown",
   "id": "d2f24773",
   "metadata": {},
   "source": [
    "# Errors (Lỗi)"
   ]
  },
  {
   "cell_type": "code",
   "execution_count": 19,
   "id": "611fc411",
   "metadata": {},
   "outputs": [
    {
     "data": {
      "text/plain": [
       "'friendfriendfriendfriendfriend'"
      ]
     },
     "execution_count": 19,
     "metadata": {},
     "output_type": "execute_result"
    }
   ],
   "source": [
    "\"friend\" * 5"
   ]
  },
  {
   "cell_type": "code",
   "execution_count": 23,
   "id": "a540bf04",
   "metadata": {
    "scrolled": true
   },
   "outputs": [
    {
     "data": {
      "text/plain": [
       "'friend5'"
      ]
     },
     "execution_count": 23,
     "metadata": {},
     "output_type": "execute_result"
    }
   ],
   "source": [
    "\"friend\" + \"5\""
   ]
  },
  {
   "cell_type": "code",
   "execution_count": 24,
   "id": "9b615f6c",
   "metadata": {},
   "outputs": [
    {
     "name": "stdout",
     "output_type": "stream",
     "text": [
      "friend 5\n"
     ]
    }
   ],
   "source": [
    "print(\"friend\", 5)"
   ]
  },
  {
   "cell_type": "markdown",
   "id": "ad3065d1",
   "metadata": {},
   "source": [
    "# Types of data (Các kiểu của dữ liệu)"
   ]
  },
  {
   "cell_type": "code",
   "execution_count": 25,
   "id": "ac628048",
   "metadata": {},
   "outputs": [
    {
     "data": {
      "text/plain": [
       "str"
      ]
     },
     "execution_count": 25,
     "metadata": {},
     "output_type": "execute_result"
    }
   ],
   "source": [
    "type(\"Hi!\")"
   ]
  },
  {
   "cell_type": "code",
   "execution_count": 26,
   "id": "433d159b",
   "metadata": {},
   "outputs": [
    {
     "data": {
      "text/plain": [
       "int"
      ]
     },
     "execution_count": 26,
     "metadata": {},
     "output_type": "execute_result"
    }
   ],
   "source": [
    "type(20)"
   ]
  },
  {
   "cell_type": "code",
   "execution_count": 27,
   "id": "d51cd84d",
   "metadata": {},
   "outputs": [
    {
     "data": {
      "text/plain": [
       "float"
      ]
     },
     "execution_count": 27,
     "metadata": {},
     "output_type": "execute_result"
    }
   ],
   "source": [
    "type(2.3)"
   ]
  },
  {
   "cell_type": "markdown",
   "id": "3a4e7f4e",
   "metadata": {},
   "source": [
    "## Booleans"
   ]
  },
  {
   "cell_type": "code",
   "execution_count": 28,
   "id": "86c88dcb",
   "metadata": {},
   "outputs": [
    {
     "data": {
      "text/plain": [
       "True"
      ]
     },
     "execution_count": 28,
     "metadata": {},
     "output_type": "execute_result"
    }
   ],
   "source": [
    "1 == 1"
   ]
  },
  {
   "cell_type": "code",
   "execution_count": 29,
   "id": "7d5eacb0",
   "metadata": {},
   "outputs": [
    {
     "data": {
      "text/plain": [
       "bool"
      ]
     },
     "execution_count": 29,
     "metadata": {},
     "output_type": "execute_result"
    }
   ],
   "source": [
    "type(1 == 1)"
   ]
  },
  {
   "cell_type": "code",
   "execution_count": 30,
   "id": "48b50a14",
   "metadata": {},
   "outputs": [
    {
     "data": {
      "text/plain": [
       "True"
      ]
     },
     "execution_count": 30,
     "metadata": {},
     "output_type": "execute_result"
    }
   ],
   "source": [
    "True"
   ]
  },
  {
   "cell_type": "code",
   "execution_count": 32,
   "id": "64de67ea",
   "metadata": {},
   "outputs": [
    {
     "data": {
      "text/plain": [
       "False"
      ]
     },
     "execution_count": 32,
     "metadata": {},
     "output_type": "execute_result"
    }
   ],
   "source": [
    "False"
   ]
  },
  {
   "cell_type": "code",
   "execution_count": 33,
   "id": "c4c708e8",
   "metadata": {},
   "outputs": [
    {
     "data": {
      "text/plain": [
       "'True'"
      ]
     },
     "execution_count": 33,
     "metadata": {},
     "output_type": "execute_result"
    }
   ],
   "source": [
    "\"True\""
   ]
  },
  {
   "cell_type": "markdown",
   "id": "ec6a1835",
   "metadata": {},
   "source": [
    "### Logic operators\n",
    "and, or, not, xor"
   ]
  },
  {
   "cell_type": "code",
   "execution_count": 34,
   "id": "a7f3f578",
   "metadata": {},
   "outputs": [
    {
     "data": {
      "text/plain": [
       "True"
      ]
     },
     "execution_count": 34,
     "metadata": {},
     "output_type": "execute_result"
    }
   ],
   "source": [
    "1==1 and 2==2"
   ]
  },
  {
   "cell_type": "code",
   "execution_count": 35,
   "id": "52c8d018",
   "metadata": {},
   "outputs": [
    {
     "data": {
      "text/plain": [
       "False"
      ]
     },
     "execution_count": 35,
     "metadata": {},
     "output_type": "execute_result"
    }
   ],
   "source": [
    "1 == 1 and 1 == 2"
   ]
  },
  {
   "cell_type": "code",
   "execution_count": 36,
   "id": "0917523b",
   "metadata": {},
   "outputs": [
    {
     "data": {
      "text/plain": [
       "False"
      ]
     },
     "execution_count": 36,
     "metadata": {},
     "output_type": "execute_result"
    }
   ],
   "source": [
    "1 == 2 and 2 == 3"
   ]
  },
  {
   "cell_type": "code",
   "execution_count": 37,
   "id": "6db0296e",
   "metadata": {},
   "outputs": [
    {
     "data": {
      "text/plain": [
       "True"
      ]
     },
     "execution_count": 37,
     "metadata": {},
     "output_type": "execute_result"
    }
   ],
   "source": [
    "1 == 1 or 2 == 2"
   ]
  },
  {
   "cell_type": "code",
   "execution_count": 38,
   "id": "e8960bf2",
   "metadata": {},
   "outputs": [
    {
     "data": {
      "text/plain": [
       "True"
      ]
     },
     "execution_count": 38,
     "metadata": {},
     "output_type": "execute_result"
    }
   ],
   "source": [
    "1 == 2 or 2 == 2"
   ]
  },
  {
   "cell_type": "code",
   "execution_count": 39,
   "id": "45bc9101",
   "metadata": {},
   "outputs": [
    {
     "data": {
      "text/plain": [
       "False"
      ]
     },
     "execution_count": 39,
     "metadata": {},
     "output_type": "execute_result"
    }
   ],
   "source": [
    "1==2 or 2==3"
   ]
  },
  {
   "cell_type": "code",
   "execution_count": 40,
   "id": "54ff7794",
   "metadata": {},
   "outputs": [
    {
     "data": {
      "text/plain": [
       "False"
      ]
     },
     "execution_count": 40,
     "metadata": {},
     "output_type": "execute_result"
    }
   ],
   "source": [
    "not 1==1"
   ]
  },
  {
   "cell_type": "code",
   "execution_count": 41,
   "id": "ae050935",
   "metadata": {},
   "outputs": [
    {
     "data": {
      "text/plain": [
       "True"
      ]
     },
     "execution_count": 41,
     "metadata": {},
     "output_type": "execute_result"
    }
   ],
   "source": [
    "not 1 != 1"
   ]
  },
  {
   "cell_type": "code",
   "execution_count": 43,
   "id": "c1e901f1",
   "metadata": {},
   "outputs": [
    {
     "data": {
      "text/plain": [
       "True"
      ]
     },
     "execution_count": 43,
     "metadata": {},
     "output_type": "execute_result"
    }
   ],
   "source": [
    "True & True"
   ]
  },
  {
   "cell_type": "markdown",
   "id": "07980517",
   "metadata": {},
   "source": [
    "# Data type: Lists (Cấu trúc dữ liệu danh sách)"
   ]
  },
  {
   "cell_type": "markdown",
   "id": "a9fc7c26",
   "metadata": {},
   "source": [
    "List: Là một chuỗi của các đối tượng (a sequence of objects)"
   ]
  },
  {
   "cell_type": "code",
   "execution_count": 44,
   "id": "a7e1f475",
   "metadata": {},
   "outputs": [],
   "source": [
    "fruit = [\"apple\", \"banana\", \"grape\"]"
   ]
  },
  {
   "cell_type": "code",
   "execution_count": 45,
   "id": "72d5141b",
   "metadata": {},
   "outputs": [],
   "source": [
    "numbers = [3, 15, -4, 8.8, 1]"
   ]
  },
  {
   "cell_type": "code",
   "execution_count": 46,
   "id": "dd7eee37",
   "metadata": {},
   "outputs": [
    {
     "data": {
      "text/plain": [
       "list"
      ]
     },
     "execution_count": 46,
     "metadata": {},
     "output_type": "execute_result"
    }
   ],
   "source": [
    "type(fruit)"
   ]
  },
  {
   "cell_type": "code",
   "execution_count": 47,
   "id": "08d477eb",
   "metadata": {},
   "outputs": [
    {
     "data": {
      "text/plain": [
       "list"
      ]
     },
     "execution_count": 47,
     "metadata": {},
     "output_type": "execute_result"
    }
   ],
   "source": [
    "type(numbers)"
   ]
  },
  {
   "cell_type": "code",
   "execution_count": 48,
   "id": "5e1a70a3",
   "metadata": {},
   "outputs": [
    {
     "data": {
      "text/plain": [
       "'apple'"
      ]
     },
     "execution_count": 48,
     "metadata": {},
     "output_type": "execute_result"
    }
   ],
   "source": [
    "fruit[0]"
   ]
  },
  {
   "cell_type": "code",
   "execution_count": 49,
   "id": "ca9853ae",
   "metadata": {},
   "outputs": [
    {
     "data": {
      "text/plain": [
       "str"
      ]
     },
     "execution_count": 49,
     "metadata": {},
     "output_type": "execute_result"
    }
   ],
   "source": [
    "type(fruit[0])"
   ]
  },
  {
   "cell_type": "code",
   "execution_count": 50,
   "id": "394d2ede",
   "metadata": {},
   "outputs": [
    {
     "data": {
      "text/plain": [
       "int"
      ]
     },
     "execution_count": 50,
     "metadata": {},
     "output_type": "execute_result"
    }
   ],
   "source": [
    "type(numbers[0])"
   ]
  },
  {
   "cell_type": "code",
   "execution_count": 51,
   "id": "31bd2c3c",
   "metadata": {},
   "outputs": [
    {
     "data": {
      "text/plain": [
       "float"
      ]
     },
     "execution_count": 51,
     "metadata": {},
     "output_type": "execute_result"
    }
   ],
   "source": [
    "type(numbers[3])"
   ]
  },
  {
   "cell_type": "markdown",
   "id": "2fc44696",
   "metadata": {},
   "source": [
    "## Bai tập"
   ]
  },
  {
   "cell_type": "code",
   "execution_count": 52,
   "id": "c8342691",
   "metadata": {},
   "outputs": [],
   "source": [
    "thay_trang_favorite_colors = [\"Violet\", \"Green\", \"White\", \"Blue\"]"
   ]
  },
  {
   "cell_type": "code",
   "execution_count": 53,
   "id": "ae780775",
   "metadata": {},
   "outputs": [
    {
     "data": {
      "text/plain": [
       "'Green'"
      ]
     },
     "execution_count": 53,
     "metadata": {},
     "output_type": "execute_result"
    }
   ],
   "source": [
    "# Mau yeu thich nhat\n",
    "thay_trang_favorite_colors[1]"
   ]
  },
  {
   "cell_type": "markdown",
   "id": "4de5e48a",
   "metadata": {},
   "source": [
    "### Dictionary (Từ điển)"
   ]
  },
  {
   "cell_type": "code",
   "execution_count": 1,
   "id": "1c10d9cd",
   "metadata": {},
   "outputs": [],
   "source": [
    "thisdict = {\"key1\":\"value1\", \"key2\": 1985}"
   ]
  },
  {
   "cell_type": "code",
   "execution_count": 2,
   "id": "2c5b1329",
   "metadata": {},
   "outputs": [
    {
     "data": {
      "text/plain": [
       "'value1'"
      ]
     },
     "execution_count": 2,
     "metadata": {},
     "output_type": "execute_result"
    }
   ],
   "source": [
    "thisdict[\"key1\"]"
   ]
  },
  {
   "cell_type": "code",
   "execution_count": 3,
   "id": "897f1301",
   "metadata": {},
   "outputs": [],
   "source": [
    "ford_mustang = {\n",
    "    \"brand\" : \"Ford\",\n",
    "    \"model\" : \"Mustang\",\n",
    "    \"year\" : 1964\n",
    "}"
   ]
  },
  {
   "cell_type": "code",
   "execution_count": 5,
   "id": "19ce041f",
   "metadata": {},
   "outputs": [],
   "source": [
    "ford_mustang = {\n",
    "    \"brand\" : \"Ford\",\n",
    "    \"model\" : \"Mustang\",\n",
    "    \"year\" : 1964,\n",
    "    \"year\" : 1985\n",
    "}"
   ]
  },
  {
   "cell_type": "code",
   "execution_count": 6,
   "id": "cc4afba5",
   "metadata": {},
   "outputs": [
    {
     "name": "stdout",
     "output_type": "stream",
     "text": [
      "{'brand': 'Ford', 'model': 'Mustang', 'year': 1985}\n"
     ]
    }
   ],
   "source": [
    "print(ford_mustang)"
   ]
  },
  {
   "cell_type": "markdown",
   "id": "c22ae0d2",
   "metadata": {},
   "source": [
    "### Tuple"
   ]
  },
  {
   "cell_type": "code",
   "execution_count": 9,
   "id": "87141517",
   "metadata": {},
   "outputs": [],
   "source": [
    "mytuple = (\"banana\", \"cherry\", \"apple\")"
   ]
  },
  {
   "cell_type": "code",
   "execution_count": 10,
   "id": "e8502e78",
   "metadata": {},
   "outputs": [
    {
     "name": "stdout",
     "output_type": "stream",
     "text": [
      "('banana', 'cherry', 'apple')\n"
     ]
    }
   ],
   "source": [
    "print(mytuple)"
   ]
  },
  {
   "cell_type": "code",
   "execution_count": 11,
   "id": "9b28df81",
   "metadata": {},
   "outputs": [],
   "source": [
    "mylist = [\"banana\", \"cherry\", \"apple\"]"
   ]
  },
  {
   "cell_type": "code",
   "execution_count": 12,
   "id": "50a924ec",
   "metadata": {},
   "outputs": [],
   "source": [
    "mylist[2] = \"New apple\""
   ]
  },
  {
   "cell_type": "code",
   "execution_count": 13,
   "id": "3b114a24",
   "metadata": {
    "scrolled": true
   },
   "outputs": [
    {
     "data": {
      "text/plain": [
       "['banana', 'cherry', 'New apple']"
      ]
     },
     "execution_count": 13,
     "metadata": {},
     "output_type": "execute_result"
    }
   ],
   "source": [
    "mylist"
   ]
  },
  {
   "cell_type": "code",
   "execution_count": 14,
   "id": "7bce3859",
   "metadata": {},
   "outputs": [
    {
     "ename": "TypeError",
     "evalue": "'tuple' object does not support item assignment",
     "output_type": "error",
     "traceback": [
      "\u001b[0;31m---------------------------------------------------------------------------\u001b[0m",
      "\u001b[0;31mTypeError\u001b[0m                                 Traceback (most recent call last)",
      "Cell \u001b[0;32mIn [14], line 1\u001b[0m\n\u001b[0;32m----> 1\u001b[0m \u001b[43mmytuple\u001b[49m\u001b[43m[\u001b[49m\u001b[38;5;241;43m2\u001b[39;49m\u001b[43m]\u001b[49m \u001b[38;5;241m=\u001b[39m \u001b[38;5;124m\"\u001b[39m\u001b[38;5;124mNew apple\u001b[39m\u001b[38;5;124m\"\u001b[39m\n",
      "\u001b[0;31mTypeError\u001b[0m: 'tuple' object does not support item assignment"
     ]
    }
   ],
   "source": [
    "mytuple[2] = \"New apple\""
   ]
  },
  {
   "cell_type": "code",
   "execution_count": 15,
   "id": "39f3d6ff",
   "metadata": {},
   "outputs": [],
   "source": [
    "mytupe2 = (\"Item 1\" , \"Item 2\", [\"List Item 1\", \"List Item 2\", \"List Item 3\"])"
   ]
  },
  {
   "cell_type": "code",
   "execution_count": 16,
   "id": "87dc9ba2",
   "metadata": {},
   "outputs": [],
   "source": [
    "mytupe2[2][2] = \"New List Item\""
   ]
  },
  {
   "cell_type": "code",
   "execution_count": 17,
   "id": "87170cdb",
   "metadata": {},
   "outputs": [
    {
     "data": {
      "text/plain": [
       "('Item 1', 'Item 2', ['List Item 1', 'List Item 2', 'New List Item'])"
      ]
     },
     "execution_count": 17,
     "metadata": {},
     "output_type": "execute_result"
    }
   ],
   "source": [
    "mytupe2"
   ]
  },
  {
   "cell_type": "markdown",
   "id": "4392706b",
   "metadata": {},
   "source": [
    "### Set"
   ]
  },
  {
   "cell_type": "code",
   "execution_count": 18,
   "id": "e31dcd44",
   "metadata": {},
   "outputs": [],
   "source": [
    "myset = {\"apple\", \"banana\", \"cherry\", \"cherry\"}"
   ]
  },
  {
   "cell_type": "code",
   "execution_count": 19,
   "id": "2f69993f",
   "metadata": {},
   "outputs": [
    {
     "name": "stdout",
     "output_type": "stream",
     "text": [
      "{'apple', 'cherry', 'banana'}\n"
     ]
    }
   ],
   "source": [
    "print(myset)"
   ]
  },
  {
   "cell_type": "code",
   "execution_count": 20,
   "id": "930af33d",
   "metadata": {},
   "outputs": [
    {
     "data": {
      "text/plain": [
       "3"
      ]
     },
     "execution_count": 20,
     "metadata": {},
     "output_type": "execute_result"
    }
   ],
   "source": [
    "len(mylist)"
   ]
  },
  {
   "cell_type": "code",
   "execution_count": 21,
   "id": "f6108521",
   "metadata": {},
   "outputs": [
    {
     "data": {
      "text/plain": [
       "2"
      ]
     },
     "execution_count": 21,
     "metadata": {},
     "output_type": "execute_result"
    }
   ],
   "source": [
    "len(thisdict)"
   ]
  },
  {
   "cell_type": "code",
   "execution_count": 22,
   "id": "611c621e",
   "metadata": {},
   "outputs": [
    {
     "data": {
      "text/plain": [
       "3"
      ]
     },
     "execution_count": 22,
     "metadata": {},
     "output_type": "execute_result"
    }
   ],
   "source": [
    "len(mytupe2)"
   ]
  },
  {
   "cell_type": "code",
   "execution_count": 23,
   "id": "0e3343ea",
   "metadata": {},
   "outputs": [
    {
     "data": {
      "text/plain": [
       "3"
      ]
     },
     "execution_count": 23,
     "metadata": {},
     "output_type": "execute_result"
    }
   ],
   "source": [
    "len(myset)"
   ]
  },
  {
   "cell_type": "markdown",
   "id": "b16d0131",
   "metadata": {},
   "source": [
    "** Bai tap **\n",
    "\n",
    "Cho danh sach: student_name = [\"Mai\", \"Trang\", \"Hung\", \"Thao\", \"Mai\", \"Cuc\", \"Thien\", \"Minh\"]\n",
    "\n",
    "Viet doan code kiem tra xem danh sach tren co trung ten hay khong."
   ]
  },
  {
   "cell_type": "code",
   "execution_count": 24,
   "id": "c6764850",
   "metadata": {},
   "outputs": [],
   "source": [
    "student_name = [\"Mai\", \"Trang\", \"Hung\", \"Thao\", \"Mai\", \"Cuc\", \"Thien\", \"Minh\"]"
   ]
  },
  {
   "cell_type": "code",
   "execution_count": 25,
   "id": "b8f5bece",
   "metadata": {},
   "outputs": [
    {
     "name": "stdout",
     "output_type": "stream",
     "text": [
      "Co trung ten\n"
     ]
    }
   ],
   "source": [
    "if len(student_name) == len(set(student_name)):\n",
    "    print(\"Khong co trung ten\")\n",
    "else:\n",
    "    print(\"Co trung ten\")"
   ]
  },
  {
   "cell_type": "code",
   "execution_count": 27,
   "id": "1ef06c18",
   "metadata": {},
   "outputs": [
    {
     "data": {
      "text/plain": [
       "{'apple', 'banana', 'cherry'}"
      ]
     },
     "execution_count": 27,
     "metadata": {},
     "output_type": "execute_result"
    }
   ],
   "source": [
    "myset"
   ]
  },
  {
   "cell_type": "code",
   "execution_count": 32,
   "id": "e4e24b12",
   "metadata": {},
   "outputs": [
    {
     "name": "stdout",
     "output_type": "stream",
     "text": [
      "apple\n"
     ]
    }
   ],
   "source": [
    "for item in myset:\n",
    "    if item == \"apple\":\n",
    "        print(item)\n",
    "        item = \"Abc\""
   ]
  },
  {
   "cell_type": "code",
   "execution_count": 33,
   "id": "425a9c99",
   "metadata": {},
   "outputs": [
    {
     "data": {
      "text/plain": [
       "{'apple', 'banana', 'cherry'}"
      ]
     },
     "execution_count": 33,
     "metadata": {},
     "output_type": "execute_result"
    }
   ],
   "source": [
    "myset"
   ]
  },
  {
   "cell_type": "code",
   "execution_count": 34,
   "id": "29fca552",
   "metadata": {},
   "outputs": [
    {
     "data": {
      "text/plain": [
       "('banana', 'cherry', 'apple')"
      ]
     },
     "execution_count": 34,
     "metadata": {},
     "output_type": "execute_result"
    }
   ],
   "source": [
    "mytuple"
   ]
  },
  {
   "cell_type": "code",
   "execution_count": 35,
   "id": "c8828b07",
   "metadata": {},
   "outputs": [],
   "source": [
    "myset.add(\"add item\")"
   ]
  },
  {
   "cell_type": "code",
   "execution_count": 36,
   "id": "6f6a4a95",
   "metadata": {},
   "outputs": [
    {
     "data": {
      "text/plain": [
       "{'add item', 'apple', 'banana', 'cherry'}"
      ]
     },
     "execution_count": 36,
     "metadata": {},
     "output_type": "execute_result"
    }
   ],
   "source": [
    "myset"
   ]
  },
  {
   "cell_type": "code",
   "execution_count": 37,
   "id": "a14289f8",
   "metadata": {},
   "outputs": [
    {
     "ename": "AttributeError",
     "evalue": "'tuple' object has no attribute 'add'",
     "output_type": "error",
     "traceback": [
      "\u001b[0;31m---------------------------------------------------------------------------\u001b[0m",
      "\u001b[0;31mAttributeError\u001b[0m                            Traceback (most recent call last)",
      "Cell \u001b[0;32mIn [37], line 1\u001b[0m\n\u001b[0;32m----> 1\u001b[0m \u001b[43mmytuple\u001b[49m\u001b[38;5;241;43m.\u001b[39;49m\u001b[43madd\u001b[49m(\u001b[38;5;124m\"\u001b[39m\u001b[38;5;124mABC\u001b[39m\u001b[38;5;124m\"\u001b[39m)\n",
      "\u001b[0;31mAttributeError\u001b[0m: 'tuple' object has no attribute 'add'"
     ]
    }
   ],
   "source": [
    "mytuple.add(\"ABC\")"
   ]
  },
  {
   "cell_type": "code",
   "execution_count": 38,
   "id": "ff847d3a",
   "metadata": {},
   "outputs": [],
   "source": [
    "myset.remove(\"apple\")"
   ]
  },
  {
   "cell_type": "code",
   "execution_count": 39,
   "id": "72237afc",
   "metadata": {},
   "outputs": [
    {
     "data": {
      "text/plain": [
       "{'add item', 'banana', 'cherry'}"
      ]
     },
     "execution_count": 39,
     "metadata": {},
     "output_type": "execute_result"
    }
   ],
   "source": [
    "myset"
   ]
  },
  {
   "cell_type": "markdown",
   "id": "a3781426",
   "metadata": {},
   "source": [
    "## Logic (Control flow - Luồng điều khiển)"
   ]
  },
  {
   "cell_type": "markdown",
   "id": "41dee5b2",
   "metadata": {},
   "source": [
    "### if Statement (Câu lệnh if)"
   ]
  },
  {
   "cell_type": "code",
   "execution_count": 50,
   "id": "5d808bcd",
   "metadata": {},
   "outputs": [],
   "source": [
    "name = \"Lam fdfd\""
   ]
  },
  {
   "cell_type": "code",
   "execution_count": 51,
   "id": "cacbd1a2",
   "metadata": {},
   "outputs": [
    {
     "name": "stdout",
     "output_type": "stream",
     "text": [
      "He he he\n"
     ]
    }
   ],
   "source": [
    "if name == \"Trang\":\n",
    "    print(\"Hi Trang\")\n",
    "elif name == \"Lam\":\n",
    "    print(\"Hi Lam\")\n",
    "else:\n",
    "    print(\"He he he\")"
   ]
  },
  {
   "cell_type": "markdown",
   "id": "b97ca105",
   "metadata": {},
   "source": [
    "## Loops (Vòng lặp)"
   ]
  },
  {
   "cell_type": "markdown",
   "id": "859b875c",
   "metadata": {},
   "source": [
    "### Couting loops\n",
    "\n",
    "- for Statement"
   ]
  },
  {
   "cell_type": "code",
   "execution_count": 52,
   "id": "42e316f7",
   "metadata": {},
   "outputs": [],
   "source": [
    "my_numbers = [1, 2, 3, 4, 5, 6, 7, 8, 9, 10]"
   ]
  },
  {
   "cell_type": "code",
   "execution_count": 57,
   "id": "362811fc",
   "metadata": {},
   "outputs": [
    {
     "name": "stdout",
     "output_type": "stream",
     "text": [
      "1\n",
      "4\n",
      "9\n",
      "16\n",
      "25\n",
      "36\n",
      "49\n",
      "64\n",
      "81\n",
      "100\n"
     ]
    }
   ],
   "source": [
    "for item in my_numbers:\n",
    "    print(item * item)"
   ]
  },
  {
   "cell_type": "markdown",
   "id": "20bdf5ed",
   "metadata": {},
   "source": [
    "### Conditional loops\n",
    "\n",
    "- while Statement"
   ]
  },
  {
   "cell_type": "code",
   "execution_count": 58,
   "id": "9bd2e80f",
   "metadata": {},
   "outputs": [
    {
     "name": "stdout",
     "output_type": "stream",
     "text": [
      "The count is:  0\n",
      "The count is:  1\n",
      "The count is:  2\n",
      "The count is:  3\n"
     ]
    }
   ],
   "source": [
    "count = 0\n",
    "while count < 4:\n",
    "    print(\"The count is: \", count)\n",
    "    count = count + 1"
   ]
  },
  {
   "cell_type": "markdown",
   "id": "9b588c4a",
   "metadata": {},
   "source": [
    "## Functions (Hàm số)"
   ]
  },
  {
   "cell_type": "markdown",
   "id": "12ad3454",
   "metadata": {},
   "source": [
    "Function's signature:\n",
    "\n",
    "- function name - Tên hàm\n",
    "- function parameters - tham số của hàm\n",
    "\n",
    "my_function(param1, param2, ...)"
   ]
  },
  {
   "cell_type": "code",
   "execution_count": 1,
   "id": "697a52a9",
   "metadata": {},
   "outputs": [],
   "source": [
    "def say_hello():\n",
    "    print(\"Hello World\")"
   ]
  },
  {
   "cell_type": "code",
   "execution_count": 2,
   "id": "9fedc5e1",
   "metadata": {},
   "outputs": [
    {
     "name": "stdout",
     "output_type": "stream",
     "text": [
      "Hello World\n"
     ]
    }
   ],
   "source": [
    "say_hello()"
   ]
  },
  {
   "cell_type": "code",
   "execution_count": 10,
   "id": "7174a517",
   "metadata": {},
   "outputs": [],
   "source": [
    "def say_hello2(mycat, myname = \"Trang\"):\n",
    "    print(\"Hello\", myname)\n",
    "    print(\"This is my cat's name:\", mycat)"
   ]
  },
  {
   "cell_type": "code",
   "execution_count": 14,
   "id": "f350db85",
   "metadata": {},
   "outputs": [
    {
     "name": "stdout",
     "output_type": "stream",
     "text": [
      "Hello Lily\n",
      "This is my cat's name: Son\n"
     ]
    }
   ],
   "source": [
    "say_hello2(\"Son\", \"Lily\")"
   ]
  },
  {
   "cell_type": "code",
   "execution_count": 5,
   "id": "717506ee",
   "metadata": {},
   "outputs": [
    {
     "name": "stdout",
     "output_type": "stream",
     "text": [
      "Hello Lam\n"
     ]
    }
   ],
   "source": [
    "say_hello2(\"Lam\")"
   ]
  },
  {
   "cell_type": "markdown",
   "id": "e3bfcfef",
   "metadata": {},
   "source": [
    "### Bài tập:\n",
    "\n",
    "1) Viết hàm số (doubles) để nhân đôi một số và in kết quả ra màn hình\n",
    "\n",
    "2) Viết hàm số (multiply) để lấy đầu vào là hai số, nhân hai số đó với nhau và in kết quả ra màn hình"
   ]
  },
  {
   "cell_type": "code",
   "execution_count": 29,
   "id": "a0308311",
   "metadata": {},
   "outputs": [],
   "source": [
    "def doubles(num):\n",
    "    return num * 2"
   ]
  },
  {
   "cell_type": "code",
   "execution_count": 30,
   "id": "ac562825",
   "metadata": {},
   "outputs": [
    {
     "data": {
      "text/plain": [
       "28"
      ]
     },
     "execution_count": 30,
     "metadata": {},
     "output_type": "execute_result"
    }
   ],
   "source": [
    "doubles(14)"
   ]
  },
  {
   "cell_type": "code",
   "execution_count": 17,
   "id": "3c15a29d",
   "metadata": {},
   "outputs": [
    {
     "name": "stdout",
     "output_type": "stream",
     "text": [
      "AbcAbc\n"
     ]
    }
   ],
   "source": [
    "doubles(\"Abc\")"
   ]
  },
  {
   "cell_type": "code",
   "execution_count": 18,
   "id": "db8c79f1",
   "metadata": {},
   "outputs": [],
   "source": [
    "def multiply(num1, num2):\n",
    "    print(num1 * num2)"
   ]
  },
  {
   "cell_type": "code",
   "execution_count": 19,
   "id": "04dd0b41",
   "metadata": {},
   "outputs": [
    {
     "name": "stdout",
     "output_type": "stream",
     "text": [
      "20\n"
     ]
    }
   ],
   "source": [
    "multiply(4, 5)"
   ]
  },
  {
   "cell_type": "code",
   "execution_count": 20,
   "id": "227ccf5e",
   "metadata": {},
   "outputs": [
    {
     "name": "stdout",
     "output_type": "stream",
     "text": [
      "hellohellohello\n"
     ]
    }
   ],
   "source": [
    "multiply(\"hello\", 3)"
   ]
  },
  {
   "cell_type": "code",
   "execution_count": 21,
   "id": "033a6cb6",
   "metadata": {},
   "outputs": [
    {
     "name": "stdout",
     "output_type": "stream",
     "text": [
      "hellohellohello\n"
     ]
    }
   ],
   "source": [
    "multiply(3, \"hello\")"
   ]
  },
  {
   "cell_type": "code",
   "execution_count": 22,
   "id": "a3b0165d",
   "metadata": {},
   "outputs": [
    {
     "name": "stdout",
     "output_type": "stream",
     "text": [
      "30\n"
     ]
    }
   ],
   "source": [
    "doubles(15)"
   ]
  },
  {
   "cell_type": "code",
   "execution_count": 31,
   "id": "078e43dc",
   "metadata": {},
   "outputs": [],
   "source": [
    "new_number = doubles(15)"
   ]
  },
  {
   "cell_type": "code",
   "execution_count": 32,
   "id": "b3228cfa",
   "metadata": {},
   "outputs": [
    {
     "data": {
      "text/plain": [
       "30"
      ]
     },
     "execution_count": 32,
     "metadata": {},
     "output_type": "execute_result"
    }
   ],
   "source": [
    "new_number"
   ]
  },
  {
   "cell_type": "markdown",
   "id": "f50e4bb7",
   "metadata": {},
   "source": [
    "### Input (Đầu vào)"
   ]
  },
  {
   "cell_type": "code",
   "execution_count": 33,
   "id": "18cbaf53",
   "metadata": {},
   "outputs": [
    {
     "name": "stdout",
     "output_type": "stream",
     "text": [
      "Hello Trang\n",
      "This is my cat's name: Trang Mai\n"
     ]
    }
   ],
   "source": [
    "say_hello2(\"Trang Mai\")"
   ]
  },
  {
   "cell_type": "markdown",
   "id": "4bf0e81b",
   "metadata": {},
   "source": [
    "`input()` function"
   ]
  },
  {
   "cell_type": "code",
   "execution_count": 34,
   "id": "6cc2963f",
   "metadata": {},
   "outputs": [
    {
     "name": "stdout",
     "output_type": "stream",
     "text": [
      "Trang Mai\n"
     ]
    }
   ],
   "source": [
    "name = input()"
   ]
  },
  {
   "cell_type": "code",
   "execution_count": 35,
   "id": "a2bb191c",
   "metadata": {},
   "outputs": [
    {
     "data": {
      "text/plain": [
       "'Trang Mai'"
      ]
     },
     "execution_count": 35,
     "metadata": {},
     "output_type": "execute_result"
    }
   ],
   "source": [
    "name"
   ]
  },
  {
   "cell_type": "code",
   "execution_count": 36,
   "id": "492adb16",
   "metadata": {},
   "outputs": [
    {
     "name": "stdout",
     "output_type": "stream",
     "text": [
      "Nhập vào tên của con mèo: Meo meo\n"
     ]
    }
   ],
   "source": [
    "cat_name = input(\"Nhập vào tên của con mèo: \")"
   ]
  },
  {
   "cell_type": "code",
   "execution_count": 37,
   "id": "3bb78af8",
   "metadata": {},
   "outputs": [
    {
     "data": {
      "text/plain": [
       "'Meo meo'"
      ]
     },
     "execution_count": 37,
     "metadata": {},
     "output_type": "execute_result"
    }
   ],
   "source": [
    "cat_name"
   ]
  },
  {
   "cell_type": "code",
   "execution_count": 42,
   "id": "2f67e88f",
   "metadata": {},
   "outputs": [
    {
     "name": "stdout",
     "output_type": "stream",
     "text": [
      "Nhập vào một sô bất kỳ: 15\n"
     ]
    }
   ],
   "source": [
    "so_nhap_vao = int(input(\"Nhập vào một sô bất kỳ: \"))"
   ]
  },
  {
   "cell_type": "code",
   "execution_count": 43,
   "id": "f40a11a7",
   "metadata": {},
   "outputs": [
    {
     "data": {
      "text/plain": [
       "int"
      ]
     },
     "execution_count": 43,
     "metadata": {},
     "output_type": "execute_result"
    }
   ],
   "source": [
    "type(so_nhap_vao)"
   ]
  },
  {
   "cell_type": "code",
   "execution_count": 44,
   "id": "e19a3e4e",
   "metadata": {},
   "outputs": [
    {
     "data": {
      "text/plain": [
       "20"
      ]
     },
     "execution_count": 44,
     "metadata": {},
     "output_type": "execute_result"
    }
   ],
   "source": [
    "so_nhap_vao + 5"
   ]
  },
  {
   "cell_type": "markdown",
   "id": "dbebc09c",
   "metadata": {},
   "source": [
    "## Modules"
   ]
  },
  {
   "cell_type": "code",
   "execution_count": 57,
   "id": "046fa103",
   "metadata": {},
   "outputs": [],
   "source": [
    "import random as ra"
   ]
  },
  {
   "cell_type": "code",
   "execution_count": 58,
   "id": "6735db1e",
   "metadata": {},
   "outputs": [],
   "source": [
    "num = ra.randint(1, 100)"
   ]
  },
  {
   "cell_type": "code",
   "execution_count": 59,
   "id": "1f3680bc",
   "metadata": {},
   "outputs": [
    {
     "data": {
      "text/plain": [
       "11"
      ]
     },
     "execution_count": 59,
     "metadata": {},
     "output_type": "execute_result"
    }
   ],
   "source": [
    "num"
   ]
  },
  {
   "cell_type": "code",
   "execution_count": 56,
   "id": "9c19ff82",
   "metadata": {},
   "outputs": [],
   "source": [
    "import numpy as np"
   ]
  },
  {
   "cell_type": "code",
   "execution_count": 62,
   "id": "2d636aad",
   "metadata": {},
   "outputs": [],
   "source": [
    "import hellomudule as hl"
   ]
  },
  {
   "cell_type": "code",
   "execution_count": 63,
   "id": "12bbe937",
   "metadata": {},
   "outputs": [
    {
     "name": "stdout",
     "output_type": "stream",
     "text": [
      "Hello,  Trang\n"
     ]
    }
   ],
   "source": [
    "hl.welcome(\"Trang\")"
   ]
  },
  {
   "cell_type": "code",
   "execution_count": 1,
   "id": "1b732dae",
   "metadata": {},
   "outputs": [],
   "source": [
    "my_list = [\"Apple\", \"Banana\", \"apple\"]"
   ]
  },
  {
   "cell_type": "code",
   "execution_count": 3,
   "id": "960d8bdd",
   "metadata": {},
   "outputs": [
    {
     "data": {
      "text/plain": [
       "True"
      ]
     },
     "execution_count": 3,
     "metadata": {},
     "output_type": "execute_result"
    }
   ],
   "source": [
    "my_list = [\"Apple\", \"Banana\", \"apple\", \"cherry\", \"orange\"]\n",
    "\n",
    "len(my_list) == len(set(my_list))"
   ]
  },
  {
   "cell_type": "code",
   "execution_count": 4,
   "id": "f1fbad73",
   "metadata": {},
   "outputs": [],
   "source": [
    "student_name = [\"Mai\", \"Trang\", \"Hung\", \"Thao\", \"Mai\", \"Cuc\", \"Thien\", \"Minh\"]\n",
    "student_name[len(student_name)]"
   ]
  },
  {
   "cell_type": "code",
   "execution_count": 5,
   "id": "21ff5c8d",
   "metadata": {},
   "outputs": [
    {
     "ename": "IndexError",
     "evalue": "list index out of range",
     "output_type": "error",
     "traceback": [
      "\u001b[0;31m---------------------------------------------------------------------------\u001b[0m",
      "\u001b[0;31mIndexError\u001b[0m                                Traceback (most recent call last)",
      "Cell \u001b[0;32mIn [5], line 1\u001b[0m\n\u001b[0;32m----> 1\u001b[0m \u001b[43mstudent_name\u001b[49m\u001b[43m[\u001b[49m\u001b[38;5;28;43mlen\u001b[39;49m\u001b[43m(\u001b[49m\u001b[43mstudent_name\u001b[49m\u001b[43m)\u001b[49m\u001b[43m]\u001b[49m\n",
      "\u001b[0;31mIndexError\u001b[0m: list index out of range"
     ]
    }
   ],
   "source": [
    "student_name[len(student_name)]"
   ]
  },
  {
   "cell_type": "code",
   "execution_count": 15,
   "id": "78eeaa8a",
   "metadata": {},
   "outputs": [],
   "source": [
    "%reload_ext autoreload\n",
    "%autoreload 2"
   ]
  },
  {
   "cell_type": "code",
   "execution_count": 16,
   "id": "cb81f3c2",
   "metadata": {},
   "outputs": [],
   "source": [
    "import nmcntt as nm"
   ]
  },
  {
   "cell_type": "code",
   "execution_count": 17,
   "id": "00ece5de",
   "metadata": {},
   "outputs": [
    {
     "name": "stdout",
     "output_type": "stream",
     "text": [
      "Chao mừng Trang đến với lớp NMCNTT 3\n"
     ]
    }
   ],
   "source": [
    "nm.welcome(\"Trang\")"
   ]
  },
  {
   "cell_type": "code",
   "execution_count": 18,
   "id": "9a0df955",
   "metadata": {},
   "outputs": [
    {
     "name": "stdout",
     "output_type": "stream",
     "text": [
      "Phéo chia cho 0 không thực hiện được\n"
     ]
    }
   ],
   "source": [
    "nm.mydiv(10, 0)"
   ]
  },
  {
   "cell_type": "code",
   "execution_count": 21,
   "id": "1194c760",
   "metadata": {},
   "outputs": [
    {
     "name": "stdout",
     "output_type": "stream",
     "text": [
      "Kết quả phép chia 10 cho 3 là: 3.33333\n"
     ]
    }
   ],
   "source": [
    "nm.mydiv(10, 3)"
   ]
  },
  {
   "cell_type": "code",
   "execution_count": 28,
   "id": "3ab0719f",
   "metadata": {},
   "outputs": [],
   "source": [
    "import games as g"
   ]
  },
  {
   "cell_type": "code",
   "execution_count": 24,
   "id": "0af91392",
   "metadata": {},
   "outputs": [
    {
     "name": "stdout",
     "output_type": "stream",
     "text": [
      "Nhap vao so ban dang nghi:8\n",
      "Chuc mung ban da chien thang!!!\n"
     ]
    }
   ],
   "source": [
    "g.game1()"
   ]
  },
  {
   "cell_type": "code",
   "execution_count": 27,
   "id": "c383ed08",
   "metadata": {},
   "outputs": [
    {
     "name": "stdout",
     "output_type": "stream",
     "text": [
      "Nhap vao so ban dang nghi:5\n",
      "Xin moi nhap lai\n",
      "Nhap vao so ban dang nghi:10\n",
      "Xin moi nhap lai\n",
      "Nhap vao so ban dang nghi:8\n",
      "Xin moi nhap lai\n",
      "Nhap vao so ban dang nghi:13\n",
      "Xin moi nhap lai\n",
      "Nhap vao so ban dang nghi:20\n",
      "Xin moi nhap lai\n",
      "Nhap vao so ban dang nghi:9\n",
      "Xin moi nhap lai\n",
      "Nhap vao so ban dang nghi:1\n",
      "Xin moi nhap lai\n",
      "Nhap vao so ban dang nghi:2\n",
      "Xin moi nhap lai\n",
      "Nhap vao so ban dang nghi:3\n",
      "Xin moi nhap lai\n",
      "Nhap vao so ban dang nghi:6\n",
      "Xin moi nhap lai\n",
      "Nhap vao so ban dang nghi:15\n",
      "Xin moi nhap lai\n",
      "Nhap vao so ban dang nghi:7\n",
      "Xin moi nhap lai\n",
      "Nhap vao so ban dang nghi:19\n",
      "Xin moi nhap lai\n",
      "Nhap vao so ban dang nghi:11\n",
      "Xin moi nhap lai\n",
      "Nhap vao so ban dang nghi:17\n",
      "Xin moi nhap lai\n",
      "Nhap vao so ban dang nghi:18\n",
      "Xin moi nhap lai\n",
      "Nhap vao so ban dang nghi:4\n",
      "Xin moi nhap lai\n",
      "Nhap vao so ban dang nghi:0\n",
      "Xin moi nhap lai\n",
      "Nhap vao so ban dang nghi:16\n",
      "Xin moi nhap lai\n",
      "Nhap vao so ban dang nghi:12\n",
      "Xin moi nhap lai\n",
      "Nhap vao so ban dang nghi:10\n",
      "Xin moi nhap lai\n",
      "Nhap vao so ban dang nghi:14\n",
      "Chuc mung ban da chien thang!!!\n"
     ]
    }
   ],
   "source": [
    "g.game2()"
   ]
  },
  {
   "cell_type": "code",
   "execution_count": 29,
   "id": "4725ba33",
   "metadata": {
    "scrolled": true
   },
   "outputs": [
    {
     "name": "stdout",
     "output_type": "stream",
     "text": [
      "Nhap vao so ban dang nghi:10\n",
      "So ban nhap vao qua nho\n",
      "Nhap vao so ban dang nghi:15\n",
      "So ban nhap vao qua nho\n",
      "Nhap vao so ban dang nghi:17\n",
      "So ban nhap vao qua nho\n",
      "Nhap vao so ban dang nghi:19\n",
      "So ban nhap vao qua lon\n",
      "Nhap vao so ban dang nghi:18\n",
      "Chuc mung ban da chien thang!!!\n"
     ]
    }
   ],
   "source": [
    "g.game3()"
   ]
  },
  {
   "cell_type": "markdown",
   "id": "fa456e70",
   "metadata": {},
   "source": [
    "![Python roadmap](./python_road_map.jpeg)"
   ]
  },
  {
   "cell_type": "code",
   "execution_count": null,
   "id": "e4d13ec0",
   "metadata": {},
   "outputs": [],
   "source": []
  }
 ],
 "metadata": {
  "kernelspec": {
   "display_name": "Python 3 (ipykernel)",
   "language": "python",
   "name": "python3"
  },
  "language_info": {
   "codemirror_mode": {
    "name": "ipython",
    "version": 3
   },
   "file_extension": ".py",
   "mimetype": "text/x-python",
   "name": "python",
   "nbconvert_exporter": "python",
   "pygments_lexer": "ipython3",
   "version": "3.9.7"
  }
 },
 "nbformat": 4,
 "nbformat_minor": 5
}
